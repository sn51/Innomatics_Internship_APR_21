{
  "nbformat": 4,
  "nbformat_minor": 0,
  "metadata": {
    "colab": {
      "name": "TASK_9.ipynb",
      "provenance": []
    },
    "kernelspec": {
      "name": "python3",
      "display_name": "Python 3"
    },
    "language_info": {
      "name": "python"
    }
  },
  "cells": [
    {
      "cell_type": "markdown",
      "metadata": {
        "id": "tA7bsy_NLUsQ"
      },
      "source": [
        "#HYPOTHESIS TESTING#\n",
        "\n",
        "So first thing that comes in our mind is that what is Hypothesis Testing?\n",
        "So it is a statiscal model i.e. used in making statistical decisions using experimental data.It is a form of statistical interface that used sample to draw conclusions about population parameter.\n",
        "\n",
        "It is used to check our inference.\n",
        "\n",
        "Steps for doing Hypothesis testing:-\n",
        "Step1) 1st tentative assumption is made about the parameter that is called **Null hypothesis** (STATUS QUO) and is denoted by $H_0$ . Then **Alternate hypotesis** (BOLD CLAIM) is stated denoted by $H_a $ or $H_1$ and it is opposite of $H_0$.\n",
        "$$H_0 --> = , \\geq , \\leq $$\n",
        "$$H_1 --> \\neq , < , > $$ Here the process involves using sample data to determine if $H_0$ is rejected or not. It $H_0$ is rejected than $H_1$ is true. Here procedure leads to the acceptance of $H_0$ when $H_0$ is true and $H_0$ when $H_0$ is false\n",
        "\n",
        "Step2)Then take a sample and compute avearage of the sample.\n",
        "\n",
        "Step3)Compute Test statistics:-\n",
        "* If $\\sigma $ (standard deviation) is known then choose z score.\n",
        "$$ Z score = \\frac{\\bar{X}-\\mu_x}{\\frac{\\sigma}{\\sqrt n}}$$\n",
        "* If $\\sigma$ (standard deviation) is known then choose t score $\n",
        "\n",
        "$$ t score = \\frac{\\bar{X}-\\mu_x}{\\frac{s}{\\sqrt n}}$$\n",
        "\n",
        "Step4) Decide Significance level it is the person conductting hypothesis allows maximum probability of making error by rejecting $H_0$ when $H_0$ is true. \n",
        "$$ 1 - \\alpha = confidence level$$ lower $\\alpha$ more and more evidence to reject null hypothesis.\n",
        "\n",
        "Step5)  Apply decision rule:\n",
        "\n",
        "* If test statistic is z-score -\n",
        "\n",
        "Two tailed z-test: $$ |z| \\gt z_\\frac{\\alpha}{2} \\Rightarrow Accept \\ H_1 \\ or \\ Reject \\ H_0$$\n",
        "Right tailed z-test:$$ z \\gt z_\\alpha \\Rightarrow Accept \\ H_1 \\ or \\ Reject \\ H_0 $$\n",
        "Left tailed z-test:$$ z \\lt -z_\\alpha \\Rightarrow Accept \\ H_1 \\ or \\ Reject \\ H_0 $$\n",
        "* If test statistic is t-score\n",
        "\n",
        "Two tailed t-test:$$ |t| \\gt t_{n-1,\\frac{\\alpha}{2}} \\Rightarrow Accept \\ H_1 \\ or \\ Reject \\ H_0 $$\n",
        "Right tailed t-test:$$ t \\gt t_{n-1,\\alpha} \\Rightarrow Accept \\ H_1 \\ or \\ Reject \\ H_0 $$\n",
        "Left tailed t-test:$$ t \\lt t_{n-1,\\alpha} \\Rightarrow Accept \\ H_1 \\ or \\ Reject \\ H_0 $$\n",
        "\n",
        "*  After this Compute p-value $ P(Test \\ Statistics | H_0) $\n",
        "\n",
        "For two tailed test:$$ p \\ value = 2 * (1.0 - cdf(test \\ statistic)) $$\n",
        "For one tailed test:$$ p \\ value = (1.0 - cdf(test \\ statistic)) $$Now,$$ if (p \\ value \\lt \\alpha) \\Rightarrow Accept \\ H_1 \\ or \\ Reject \\ H_0 $$"
      ]
    },
    {
      "cell_type": "markdown",
      "metadata": {
        "id": "Aq8mfjaILhAc"
      },
      "source": [
        "**Question 1**:- ***Pista House selling Hyderabadi Chicken Dum biryani claims that each parcel packet has 500 grams of biryani (also mentioned on the label of packet). You are sceptic of their claims and believe that on average each packet does not contain 500 grams of biryani. How do you prove your claim?***  \n",
        "\n",
        "Ans) \n",
        "\n",
        "Step -1) So here we can assume that our bold claim is that avg is not equal to 500 grams. So we can formulate our null hypothesis and alternate hypothesis.$$H_0=500$$  $$H_1 \\neq 500$$\n",
        "Step -2) We have to take samples suppose we take sample of size n= 10 $$ [490, 220, 470, 500, 495, 496, 496, 498, 508, 480] $$\n",
        "now we have to calculate it's average it's average is 465.3\n",
        "\n",
        "Step - 3) Compute test statistics here t score as standard deviation is not given $$ t score = \\frac{\\bar{X}-\\mu_x}{\\frac{s}{\\sqrt n}}$$\n",
        "\n",
        "Step-4) Define $\\alpha$\n",
        "\n",
        "Step- 5) Check whether it is one-tailed or two -tailed and compute p-score"
      ]
    },
    {
      "cell_type": "code",
      "metadata": {
        "id": "F5eTgNcBbzLv"
      },
      "source": [
        "# Importing the libraries\n",
        "import numpy as np\n",
        "import matplotlib.pyplot as plt\n",
        "from scipy.stats import t\n",
        "\n",
        "\n"
      ],
      "execution_count": 31,
      "outputs": []
    },
    {
      "cell_type": "code",
      "metadata": {
        "id": "bCbOeYVRBZ9m"
      },
      "source": [
        "# Defining a t score function\n",
        "def t_score(sample_size,sample_mean,pop_mean,sample_std):\n",
        "  num = sample_mean - pop_mean\n",
        "  den= sample_std/sample_size**(1/2)\n",
        "  return num/den"
      ],
      "execution_count": 32,
      "outputs": []
    },
    {
      "cell_type": "code",
      "metadata": {
        "colab": {
          "base_uri": "https://localhost:8080/"
        },
        "id": "06kOB1fs9eHg",
        "outputId": "e1e885ac-d967-4074-87c8-400eca321481"
      },
      "source": [
        "sample = [490,220,470,500,495,496,496,498,508,480]\n",
        "mean = sum(sample)/len(sample)\n",
        "print(mean)"
      ],
      "execution_count": 33,
      "outputs": [
        {
          "output_type": "stream",
          "text": [
            "465.3\n"
          ],
          "name": "stdout"
        }
      ]
    },
    {
      "cell_type": "code",
      "metadata": {
        "colab": {
          "base_uri": "https://localhost:8080/"
        },
        "id": "0mvEXUfY9qhT",
        "outputId": "692192af-17e8-4205-d34d-f0d20580f186"
      },
      "source": [
        "import statistics\n",
        "std = statistics.pstdev(sample)\n",
        "print(std) # Calculating the standard deviation of samle"
      ],
      "execution_count": 34,
      "outputs": [
        {
          "output_type": "stream",
          "text": [
            "82.39180784519782\n"
          ],
          "name": "stdout"
        }
      ]
    },
    {
      "cell_type": "code",
      "metadata": {
        "id": "Y6acpCJ6EC1n"
      },
      "source": [
        "# Stating up all the values\n",
        "sample_size = len(sample)\n",
        "sample_mean = mean\n",
        "pop_mean = 500\n",
        "sample_std = std"
      ],
      "execution_count": 35,
      "outputs": []
    },
    {
      "cell_type": "code",
      "metadata": {
        "colab": {
          "base_uri": "https://localhost:8080/"
        },
        "id": "G2nmtI-tE_D6",
        "outputId": "56256b65-6e64-4f21-8f89-be190d9f47db"
      },
      "source": [
        "t=t_score(sample_size,sample_mean,pop_mean,sample_std)\n",
        "print(t)"
      ],
      "execution_count": 36,
      "outputs": [
        {
          "output_type": "stream",
          "text": [
            "-1.331819724286319\n"
          ],
          "name": "stdout"
        }
      ]
    },
    {
      "cell_type": "markdown",
      "metadata": {
        "id": "mEkV6c-zFteK"
      },
      "source": [
        "As here $H_1 \\neq 500 $ as here $\\neq $sign comes we should do two tail test"
      ]
    },
    {
      "cell_type": "code",
      "metadata": {
        "colab": {
          "base_uri": "https://localhost:8080/"
        },
        "id": "gcSy1qNyFQcx",
        "outputId": "e5fbb180-c55a-470a-910c-2bf0308bb469"
      },
      "source": [
        "import scipy\n",
        "ci = 0.95 #confidence level\n",
        "\n",
        "# Two tail\n",
        "\n",
        "alpha = 1 - ci\n",
        "\n",
        "t_critical = scipy.stats.t.ppf(1-alpha/2, df = (sample_size-1))\n",
        "\n",
        "print(t_critical)"
      ],
      "execution_count": 40,
      "outputs": [
        {
          "output_type": "stream",
          "text": [
            "2.2621571627409915\n"
          ],
          "name": "stdout"
        }
      ]
    },
    {
      "cell_type": "code",
      "metadata": {
        "colab": {
          "base_uri": "https://localhost:8080/"
        },
        "id": "96lv3WAjHesw",
        "outputId": "6ec96cf2-274c-4f3c-a473-886ee853b278"
      },
      "source": [
        "if(np.abs(t) > t_critical):\n",
        "    print(\"Reject Null Hypothesis\")\n",
        "else:\n",
        "    print(\"Fail to reject Null Hypothesis\")"
      ],
      "execution_count": 41,
      "outputs": [
        {
          "output_type": "stream",
          "text": [
            "Fail to reject Null Hypothesis\n"
          ],
          "name": "stdout"
        }
      ]
    },
    {
      "cell_type": "code",
      "metadata": {
        "colab": {
          "base_uri": "https://localhost:8080/",
          "height": 283
        },
        "id": "qCnL9vhbIJQH",
        "outputId": "ecf3e571-b98c-43fd-8407-e84d41aa2aba"
      },
      "source": [
        "# Plotting t_score\n",
        "# degree of freedom\n",
        "dof = sample_size -1\n",
        "ntails = 2 # number of tails\n",
        "\n",
        "plt.figure()\n",
        "xs = np.linspace(-10,10,1000)\n",
        "plt.plot(xs,scipy.stats.t.pdf(xs,dof),'k',label=\"T-Distribution Pdf\")\n",
        "\n",
        "critline = np.linspace(0,alpha/ntails)\n",
        "xs_1 = len(critline)*[-t_critical]\n",
        "xs_2 = len(critline) * [t_critical]\n",
        "\n",
        "plt.plot(xs_1,critline,'r',label= \"-t for dof 9\")\n",
        "plt.plot(xs_2,critline,'r',label= \"t  for dof 9\")\n",
        "plt.legend()"
      ],
      "execution_count": 43,
      "outputs": [
        {
          "output_type": "execute_result",
          "data": {
            "text/plain": [
              "<matplotlib.legend.Legend at 0x7fc5bcd72210>"
            ]
          },
          "metadata": {
            "tags": []
          },
          "execution_count": 43
        },
        {
          "output_type": "display_data",
          "data": {
            "image/png": "[encoded data removed]",
            "text/plain": [
              "<Figure size 432x288 with 1 Axes>"
            ]
          },
          "metadata": {
            "tags": [],
            "needs_background": "light"
          }
        }
      ]
    },
    {
      "cell_type": "code",
      "metadata": {
        "colab": {
          "base_uri": "https://localhost:8080/"
        },
        "id": "5UxgPBGAcEEC",
        "outputId": "12e0a418-e3bd-4ab5-df16-20605beaee6f"
      },
      "source": [
        "# Conclusion using p test\n",
        "\n",
        "p_value = 2 * (1.0 - scipy.stats.t.cdf(np.abs(t),df=dof))\n",
        "\n",
        "print(\"p_value = \", p_value)\n",
        "\n",
        "if(p_value < alpha):\n",
        "    print(\"Reject Null Hypothesis\")\n",
        "else:\n",
        "    print(\"Fail to reject Null Hypothesis\")"
      ],
      "execution_count": 46,
      "outputs": [
        {
          "output_type": "stream",
          "text": [
            "p_value =  0.2156616653606347\n",
            "Fail to reject Null Hypothesis\n"
          ],
          "name": "stdout"
        }
      ]
    },
    {
      "cell_type": "markdown",
      "metadata": {
        "id": "Sowm00zRSvoH"
      },
      "source": [
        "***Q-2: You have developed a new Natural Language Processing Algorithms and done a user study. You claim that the average rating given by the users is greater than 4 on a scale of 1 to 5. How do you prove this to your client?***\n",
        "\n",
        "Ans) \n",
        "\n",
        "Step -1) So here we can assume that our bold claim is that avg rating is greater than 4. So we can formulate our null hypothesis and alternate hypothesis.$$H_0\\leq4$$  $$H_1 > 4$$\n",
        "Step -2) We have to take samples suppose we take sample of size n= 10 $$ [4, 3, 5, 4, 5, 3, 5, 5, 4, 2, 4, 5, 5, 4, 4, 5, 4, 5, 4, 5] $$\n",
        "now we have to calculate it's average it's average is 4.25\n",
        "\n",
        "Step - 3) Compute test statistics here t score as standard deviation is not given $$ t score = \\frac{\\bar{X}-\\mu_x}{\\frac{s}{\\sqrt n}}$$\n",
        "\n",
        "Step-4) Define $\\alpha$\n",
        "\n",
        "Step- 5) Check whether it is one-tailed or two -tailed and compute p-score"
      ]
    },
    {
      "cell_type": "code",
      "metadata": {
        "colab": {
          "base_uri": "https://localhost:8080/"
        },
        "id": "YCFGdPLdJStX",
        "outputId": "9515b57a-f198-4d62-c256-958941ae55ec"
      },
      "source": [
        "sample_1 = [4,3,5,4,5,3,5,5,4,2,4,5,5,4,4,5,4,5,4,5]\n",
        "mean = sum(sample_1)/len(sample_1)\n",
        "print(mean)"
      ],
      "execution_count": 49,
      "outputs": [
        {
          "output_type": "stream",
          "text": [
            "4.25\n"
          ],
          "name": "stdout"
        }
      ]
    },
    {
      "cell_type": "code",
      "metadata": {
        "colab": {
          "base_uri": "https://localhost:8080/"
        },
        "id": "L1HteAJ2dg3G",
        "outputId": "b7f6de6d-b03e-45e6-9a4b-e4c8cfdbd105"
      },
      "source": [
        "std = statistics.pstdev(sample_1)\n",
        "print(std)"
      ],
      "execution_count": 78,
      "outputs": [
        {
          "output_type": "stream",
          "text": [
            "0.82915619758885\n"
          ],
          "name": "stdout"
        }
      ]
    },
    {
      "cell_type": "code",
      "metadata": {
        "id": "DMVFre28dlsL"
      },
      "source": [
        "sample_size = len(sample_1)\n",
        "sample_mean = mean\n",
        "pop_mean = 4\n",
        "sample_std = std\n"
      ],
      "execution_count": 53,
      "outputs": []
    },
    {
      "cell_type": "code",
      "metadata": {
        "colab": {
          "base_uri": "https://localhost:8080/"
        },
        "id": "2rW4IsSSeE_M",
        "outputId": "7b47a30d-1500-49ae-f9a8-5e497d566e87"
      },
      "source": [
        "t=t_score(sample_size,sample_mean,pop_mean,sample_std)\n",
        "print(t)"
      ],
      "execution_count": 54,
      "outputs": [
        {
          "output_type": "stream",
          "text": [
            "1.3483997249264843\n"
          ],
          "name": "stdout"
        }
      ]
    },
    {
      "cell_type": "code",
      "metadata": {
        "colab": {
          "base_uri": "https://localhost:8080/"
        },
        "id": "OU60_E_eeM6R",
        "outputId": "c6813162-e8b7-41f4-a752-1fd8a2bbeec0"
      },
      "source": [
        "# One tail because of sign >\n",
        "ci= 0.95\n",
        "alpha = 1 - ci\n",
        "\n",
        "t_critical = scipy.stats.t.ppf(1-alpha, df = 19)\n",
        "\n",
        "print(t_critical)"
      ],
      "execution_count": 55,
      "outputs": [
        {
          "output_type": "stream",
          "text": [
            "1.729132811521367\n"
          ],
          "name": "stdout"
        }
      ]
    },
    {
      "cell_type": "code",
      "metadata": {
        "colab": {
          "base_uri": "https://localhost:8080/"
        },
        "id": "l-y8XLE9ehWw",
        "outputId": "239eef38-c352-4c3a-c71f-f71bbc4780b8"
      },
      "source": [
        "if(np.abs(t) > t_critical):\n",
        "    print(\"Reject Null Hypothesis\")\n",
        "else:\n",
        "    print(\"Fail to reject Null Hypothesis\")"
      ],
      "execution_count": 56,
      "outputs": [
        {
          "output_type": "stream",
          "text": [
            "Fail to reject Null Hypothesis\n"
          ],
          "name": "stdout"
        }
      ]
    },
    {
      "cell_type": "code",
      "metadata": {
        "colab": {
          "base_uri": "https://localhost:8080/",
          "height": 282
        },
        "id": "sQYk9dynecIK",
        "outputId": "1cf741ad-276e-4c9e-84ae-8e4bf2f0a13c"
      },
      "source": [
        "# degree of freedom\n",
        "dof = sample_size -1\n",
        "ntails = 1 # number of tails\n",
        "\n",
        "plt.figure()\n",
        "xs = np.linspace(-10,10,1000)\n",
        "plt.plot(xs,scipy.stats.t.pdf(xs,dof),'k',label=\"T-Distribution Pdf\")\n",
        "\n",
        "critline = np.linspace(0,alpha/ntails)\n",
        "xs_1 = len(critline)*[t_critical]\n",
        "#xs_2 = len(critline) * [t_critical]\n",
        "\n",
        "plt.plot(xs_1,critline,'r',label= \"-t for dof 9\")\n",
        "\n",
        "plt.legend()"
      ],
      "execution_count": 59,
      "outputs": [
        {
          "output_type": "execute_result",
          "data": {
            "text/plain": [
              "<matplotlib.legend.Legend at 0x7fc5bc50cf50>"
            ]
          },
          "metadata": {
            "tags": []
          },
          "execution_count": 59
        },
        {
          "output_type": "display_data",
          "data": {
            "image/png": "[encoded data removed]",
            "text/plain": [
              "<Figure size 432x288 with 1 Axes>"
            ]
          },
          "metadata": {
            "tags": [],
            "needs_background": "light"
          }
        }
      ]
    },
    {
      "cell_type": "code",
      "metadata": {
        "colab": {
          "base_uri": "https://localhost:8080/"
        },
        "id": "QEtk4RMZfRUg",
        "outputId": "0ef5a000-3257-4bdb-bb47-48077c894fd6"
      },
      "source": [
        "# Conclusion using p test\n",
        "\n",
        "p_value = 2 * (1.0 - scipy.stats.t.cdf(np.abs(t),df=dof))\n",
        "\n",
        "print(\"p_value = \", p_value)\n",
        "\n",
        "if(p_value < alpha):\n",
        "    print(\"Reject Null Hypothesis\")\n",
        "else:\n",
        "    print(\"Fail to reject Null Hypothesis\")"
      ],
      "execution_count": 60,
      "outputs": [
        {
          "output_type": "stream",
          "text": [
            "p_value =  0.1933852770712241\n",
            "Fail to reject Null Hypothesis\n"
          ],
          "name": "stdout"
        }
      ]
    },
    {
      "cell_type": "markdown",
      "metadata": {
        "id": "-gYsOGGdVH9n"
      },
      "source": [
        "**Q-3: TATA has developed a better fuel management system for the SUV segment. They claim that with this system, on average the SUV's mileage is at least 15 km/litre?**\n",
        "\n",
        "Ans) \n",
        "\n",
        "Step -1) So here we can assume that our bold claim is that avg is atleast 15 km/litre. So we can formulate our null hypothesis and alternate hypothesis.$$H_0\\leq15$$  $$H_1 > 15$$\n",
        "Step -2) We have to take samples suppose we take sample of size n= 10 $$ [14.08, 14.13, 15.65, 13.78, 16.26, 14.97, 15.36, 15.81, 14.53, 16.79, 15.78, 16.98, 13.23, 15.43, 15.46, 13.88, 14.31, 14.41, 15.76, 15.38] $$\n",
        "now we have to calculate it's average it's average is 15.1\n",
        "\n",
        "Step - 3) Compute test statistics here t score as standard deviation is not given $$ t score = \\frac{\\bar{X}-\\mu_x}{\\frac{s}{\\sqrt n}}$$\n",
        "\n",
        "Step-4) Define $\\alpha$\n",
        "\n",
        "Step- 5) Check whether it is one-tailed or two -tailed and compute p-score\n",
        "\n",
        "\n",
        "\n",
        "\n"
      ]
    },
    {
      "cell_type": "code",
      "metadata": {
        "colab": {
          "base_uri": "https://localhost:8080/"
        },
        "id": "Rfod-OfoW3O3",
        "outputId": "17c7e903-b90e-44db-ac77-e3560150a998"
      },
      "source": [
        "sample_2 = [14.08,14.13,15.65,13.78,16.26,14.97,15.36,15.81,14.53,16.79,15.78,16.98,13.23,15.43,15.46,13.88,14.31,14.41,15.76,15.38]\n",
        "mean = sum(sample_2)/len(sample_2)\n",
        "print(mean)"
      ],
      "execution_count": 61,
      "outputs": [
        {
          "output_type": "stream",
          "text": [
            "15.098999999999998\n"
          ],
          "name": "stdout"
        }
      ]
    },
    {
      "cell_type": "code",
      "metadata": {
        "colab": {
          "base_uri": "https://localhost:8080/"
        },
        "id": "iegr49SXf_tU",
        "outputId": "0385b73c-6b89-4b4d-889f-9f55847c0d38"
      },
      "source": [
        "std = statistics.pstdev(sample_2)\n",
        "print(std)"
      ],
      "execution_count": 79,
      "outputs": [
        {
          "output_type": "stream",
          "text": [
            "0.9994043225842081\n"
          ],
          "name": "stdout"
        }
      ]
    },
    {
      "cell_type": "code",
      "metadata": {
        "id": "c82lVOB9gP7l"
      },
      "source": [
        "sample_size = len(sample_2)\n",
        "sample_mean = mean\n",
        "pop_mean = 15\n",
        "sample_std = std"
      ],
      "execution_count": 63,
      "outputs": []
    },
    {
      "cell_type": "code",
      "metadata": {
        "colab": {
          "base_uri": "https://localhost:8080/"
        },
        "id": "Y163kPD0ga-V",
        "outputId": "4a020602-dcc9-4a2d-e48c-3c3a2d97e881"
      },
      "source": [
        "t=t_score(sample_size,sample_mean,pop_mean,sample_std)\n",
        "print(t)"
      ],
      "execution_count": 64,
      "outputs": [
        {
          "output_type": "stream",
          "text": [
            "0.44300534782572615\n"
          ],
          "name": "stdout"
        }
      ]
    },
    {
      "cell_type": "code",
      "metadata": {
        "colab": {
          "base_uri": "https://localhost:8080/"
        },
        "id": "k4Cebx7kgdfm",
        "outputId": "f516d23f-d376-4e14-ba94-92e56bd7a86a"
      },
      "source": [
        "# One tail beacuse of > sign in alternate hypothesis\n",
        "ci= 0.95\n",
        "alpha = 1 - ci\n",
        "\n",
        "t_critical = scipy.stats.t.ppf(1-alpha, df = 19)\n",
        "\n",
        "print(t_critical)"
      ],
      "execution_count": 65,
      "outputs": [
        {
          "output_type": "stream",
          "text": [
            "1.729132811521367\n"
          ],
          "name": "stdout"
        }
      ]
    },
    {
      "cell_type": "code",
      "metadata": {
        "colab": {
          "base_uri": "https://localhost:8080/"
        },
        "id": "XNmJjqW5gwDg",
        "outputId": "7521ec12-da38-4af2-a55d-8ffe1652585c"
      },
      "source": [
        "if(np.abs(t) > t_critical):\n",
        "    print(\"Reject Null Hypothesis\")\n",
        "else:\n",
        "    print(\"Fail to reject Null Hypothesis\")"
      ],
      "execution_count": 66,
      "outputs": [
        {
          "output_type": "stream",
          "text": [
            "Fail to reject Null Hypothesis\n"
          ],
          "name": "stdout"
        }
      ]
    },
    {
      "cell_type": "code",
      "metadata": {
        "colab": {
          "base_uri": "https://localhost:8080/",
          "height": 282
        },
        "id": "zlWYEly7g6Y4",
        "outputId": "e7a58eba-4ff5-4c19-bfc4-528de3f399d4"
      },
      "source": [
        "# degree of freedom\n",
        "dof = sample_size -1\n",
        "ntails = 1 # number of tails\n",
        "\n",
        "plt.figure()\n",
        "xs = np.linspace(-10,10,1000)\n",
        "plt.plot(xs,scipy.stats.t.pdf(xs,dof),'k',label=\"T-Distribution Pdf\")\n",
        "\n",
        "critline = np.linspace(0,alpha/ntails)\n",
        "xs_1 = len(critline)*[t_critical]\n",
        "#xs_2 = len(critline) * [t_critical]\n",
        "\n",
        "plt.plot(xs_1,critline,'r',label= \"-t for dof 9\")\n",
        "\n",
        "plt.legend()"
      ],
      "execution_count": 67,
      "outputs": [
        {
          "output_type": "execute_result",
          "data": {
            "text/plain": [
              "<matplotlib.legend.Legend at 0x7fc5bc49bb10>"
            ]
          },
          "metadata": {
            "tags": []
          },
          "execution_count": 67
        },
        {
          "output_type": "display_data",
          "data": {
            "image/png": "[encoded data removed]",
            "text/plain": [
              "<Figure size 432x288 with 1 Axes>"
            ]
          },
          "metadata": {
            "tags": [],
            "needs_background": "light"
          }
        }
      ]
    },
    {
      "cell_type": "code",
      "metadata": {
        "colab": {
          "base_uri": "https://localhost:8080/"
        },
        "id": "IN883TQXhEJb",
        "outputId": "b4f2d202-fd95-4f4b-c8b8-54ea82c835f8"
      },
      "source": [
        "# Conclusion using p test\n",
        "\n",
        "p_value = 2 * (1.0 - scipy.stats.t.cdf(np.abs(t),df=dof))\n",
        "\n",
        "print(\"p_value = \", p_value)\n",
        "\n",
        "if(p_value < alpha):\n",
        "    print(\"Reject Null Hypothesis\")\n",
        "else:\n",
        "    print(\"Fail to reject Null Hypothesis\")"
      ],
      "execution_count": 68,
      "outputs": [
        {
          "output_type": "stream",
          "text": [
            "p_value =  0.6627645761332714\n",
            "Fail to reject Null Hypothesis\n"
          ],
          "name": "stdout"
        }
      ]
    },
    {
      "cell_type": "markdown",
      "metadata": {
        "id": "FqA0Bm8gW-Z4"
      },
      "source": [
        "**Q-4: You have developed a new Machine Learning Application and claim that on average it takes less than 100 ms to predict for any future datapoint. How do you convince your client about this claim?**\n",
        "\n",
        "Ans) \n",
        "\n",
        "Step -1) So here we can assume that our bold claim is that avg is less than 100 ms. So we can formulate our null hypothesis and alternate hypothesis.$$H_0\\geq100$$  $$H_1 < 100$$\n",
        "Step -2) We have to take samples suppose we take sample of size n= 10 $$[100,101,97,98,99,102,100,101,96,95] $$\n",
        "now we have to calculate it's average it's average is 98.9\n",
        "\n",
        "Step - 3) Compute test statistics here t score as standard deviation is not given $$ t score = \\frac{\\bar{X}-\\mu_x}{\\frac{s}{\\sqrt n}}$$\n",
        "\n",
        "Step-4) Define $\\alpha$\n",
        "\n",
        "Step- 5) Check whether it is one-tailed or two -tailed and compute p-score"
      ]
    },
    {
      "cell_type": "code",
      "metadata": {
        "colab": {
          "base_uri": "https://localhost:8080/"
        },
        "id": "khnMSd4bhY45",
        "outputId": "78438d99-7581-4b34-cf55-e277fe412256"
      },
      "source": [
        "sample_3 = [100,101,97,98,99,102,100,101,96,95]\n",
        "mean = sum(sample_3)/len(sample_3)\n",
        "print(mean)"
      ],
      "execution_count": 70,
      "outputs": [
        {
          "output_type": "stream",
          "text": [
            "98.9\n"
          ],
          "name": "stdout"
        }
      ]
    },
    {
      "cell_type": "code",
      "metadata": {
        "colab": {
          "base_uri": "https://localhost:8080/"
        },
        "id": "Gv4Y5sL5jNsB",
        "outputId": "65b71e0b-a0c4-40ac-d037-a9bd061f33ee"
      },
      "source": [
        "std = statistics.pstdev(sample_3)\n",
        "print(std)"
      ],
      "execution_count": 80,
      "outputs": [
        {
          "output_type": "stream",
          "text": [
            "2.211334438749598\n"
          ],
          "name": "stdout"
        }
      ]
    },
    {
      "cell_type": "code",
      "metadata": {
        "id": "6DvimffDkD_4"
      },
      "source": [
        "sample_size = len(sample_3)\n",
        "sample_mean = mean\n",
        "pop_mean = 100\n",
        "sample_std = std"
      ],
      "execution_count": 72,
      "outputs": []
    },
    {
      "cell_type": "code",
      "metadata": {
        "colab": {
          "base_uri": "https://localhost:8080/"
        },
        "id": "Fu0PLaVPkNMJ",
        "outputId": "cbe64ffa-d77f-4f6d-c26d-4f94d3460b81"
      },
      "source": [
        "t=t_score(sample_size,sample_mean,pop_mean,sample_std)\n",
        "print(t)"
      ],
      "execution_count": 73,
      "outputs": [
        {
          "output_type": "stream",
          "text": [
            "-1.5730345284868466\n"
          ],
          "name": "stdout"
        }
      ]
    },
    {
      "cell_type": "code",
      "metadata": {
        "colab": {
          "base_uri": "https://localhost:8080/"
        },
        "id": "GqF2PjLlkTiR",
        "outputId": "15130dac-2a0f-4679-f236-f7121dc088e1"
      },
      "source": [
        "# One tail beause of sign < in alternate hypothesis\n",
        "ci= 0.95\n",
        "alpha = 1 - ci\n",
        "\n",
        "t_critical = scipy.stats.t.ppf(1-alpha, df = 19)\n",
        "\n",
        "print(t_critical)"
      ],
      "execution_count": 81,
      "outputs": [
        {
          "output_type": "stream",
          "text": [
            "1.729132811521367\n"
          ],
          "name": "stdout"
        }
      ]
    },
    {
      "cell_type": "code",
      "metadata": {
        "colab": {
          "base_uri": "https://localhost:8080/"
        },
        "id": "5q4p0xDQkasm",
        "outputId": "a2677e68-3916-4cae-a443-7da9d371667d"
      },
      "source": [
        "if(np.abs(t) > t_critical):\n",
        "    print(\"Reject Null Hypothesis\")\n",
        "else:\n",
        "    print(\"Fail to reject Null Hypothesis\")"
      ],
      "execution_count": 75,
      "outputs": [
        {
          "output_type": "stream",
          "text": [
            "Fail to reject Null Hypothesis\n"
          ],
          "name": "stdout"
        }
      ]
    },
    {
      "cell_type": "code",
      "metadata": {
        "colab": {
          "base_uri": "https://localhost:8080/",
          "height": 283
        },
        "id": "Gk9ak_BskhYg",
        "outputId": "464f64e6-7173-42f3-f5c8-5f058b004f42"
      },
      "source": [
        "# degree of freedom\n",
        "dof = sample_size -1\n",
        "ntails = 1 # number of tails\n",
        "\n",
        "plt.figure()\n",
        "xs = np.linspace(-10,10,1000)\n",
        "plt.plot(xs,scipy.stats.t.pdf(xs,dof),'k',label=\"T-Distribution Pdf\")\n",
        "\n",
        "critline = np.linspace(0,alpha/ntails)\n",
        "xs_1 = len(critline)*[-t_critical]\n",
        "#xs_2 = len(critline) * [t_critical]\n",
        "\n",
        "plt.plot(xs_1,critline,'r',label= \"-t for dof 9\")\n",
        "\n",
        "plt.legend()"
      ],
      "execution_count": 76,
      "outputs": [
        {
          "output_type": "execute_result",
          "data": {
            "text/plain": [
              "<matplotlib.legend.Legend at 0x7fc5bc424d10>"
            ]
          },
          "metadata": {
            "tags": []
          },
          "execution_count": 76
        },
        {
          "output_type": "display_data",
          "data": {
            "image/png": "[encoded data removed]",
            "text/plain": [
              "<Figure size 432x288 with 1 Axes>"
            ]
          },
          "metadata": {
            "tags": [],
            "needs_background": "light"
          }
        }
      ]
    },
    {
      "cell_type": "code",
      "metadata": {
        "colab": {
          "base_uri": "https://localhost:8080/"
        },
        "id": "Vl2sZjV1kqLz",
        "outputId": "c38277fe-50cb-40d9-abe0-b906a80781c7"
      },
      "source": [
        "# Conclusion using p test\n",
        "\n",
        "p_value = 2 * (1.0 - scipy.stats.t.cdf(np.abs(t),df=dof))\n",
        "\n",
        "print(\"p_value = \", p_value)\n",
        "\n",
        "if(p_value < alpha):\n",
        "    print(\"Reject Null Hypothesis\")\n",
        "else:\n",
        "    print(\"Fail to reject Null Hypothesis\")"
      ],
      "execution_count": 77,
      "outputs": [
        {
          "output_type": "stream",
          "text": [
            "p_value =  0.15016148212690528\n",
            "Fail to reject Null Hypothesis\n"
          ],
          "name": "stdout"
        }
      ]
    },
    {
      "cell_type": "code",
      "metadata": {
        "id": "LwJkfeVckyOf"
      },
      "source": [
        ""
      ],
      "execution_count": null,
      "outputs": []
    }
  ]
}
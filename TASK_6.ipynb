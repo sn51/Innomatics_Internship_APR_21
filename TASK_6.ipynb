{
  "nbformat": 4,
  "nbformat_minor": 0,
  "metadata": {
    "colab": {
      "name": "TASK_6.ipynb",
      "provenance": []
    },
    "kernelspec": {
      "name": "python3",
      "display_name": "Python 3"
    },
    "language_info": {
      "name": "python"
    }
  },
  "cells": [
    {
      "cell_type": "markdown",
      "metadata": {
        "id": "-w7UIkQ9gQBh"
      },
      "source": [
        "**ARRAYS**\n",
        "\n",
        "You are given a space separated list of numbers.\n",
        "Your task is to print a reversed NumPy array with the element type float"
      ]
    },
    {
      "cell_type": "code",
      "metadata": {
        "colab": {
          "base_uri": "https://localhost:8080/"
        },
        "id": "0qdt4pbEgFNi",
        "outputId": "590d343c-6ccb-494e-8abf-b1b68c348ba8"
      },
      "source": [
        "import numpy\n",
        "\n",
        "def arrays(arr):\n",
        "    # complete this function\n",
        "    # use numpy.array\n",
        "    array1 = numpy.array(arr[::-1],float)\n",
        "    return array1\n",
        "\n",
        "arr = input().strip().split(' ')\n",
        "result = arrays(arr)\n",
        "print(result)"
      ],
      "execution_count": 3,
      "outputs": [
        {
          "output_type": "stream",
          "text": [
            "1 2 3 4 -8 -10\n",
            "[-10.  -8.   4.   3.   2.   1.]\n"
          ],
          "name": "stdout"
        }
      ]
    },
    {
      "cell_type": "markdown",
      "metadata": {
        "id": "MyPS9fjeg1uo"
      },
      "source": [
        "**SHAPE AND RESHAPE**\n",
        "\n",
        "You are given a space separated list of nine integers. Your task is to convert this list into a 3X3 NumPy array."
      ]
    },
    {
      "cell_type": "code",
      "metadata": {
        "colab": {
          "base_uri": "https://localhost:8080/"
        },
        "id": "ziijzt2_gbMw",
        "outputId": "60933b20-51eb-4502-f465-5600beb109b8"
      },
      "source": [
        "import numpy as np\n",
        "\n",
        "\n",
        "my_array = np.array(input().split(),int)\n",
        "\n",
        "print(np.reshape(my_array,(3,3)))"
      ],
      "execution_count": 4,
      "outputs": [
        {
          "output_type": "stream",
          "text": [
            "1 2 3 4 5 6 7 8 9\n",
            "[[1 2 3]\n",
            " [4 5 6]\n",
            " [7 8 9]]\n"
          ],
          "name": "stdout"
        }
      ]
    },
    {
      "cell_type": "markdown",
      "metadata": {
        "id": "KVDmxahuhb6G"
      },
      "source": [
        "**MEAN,VAR AND STD**\n",
        "\n",
        "You are given a 2-D array of size NXM.\n",
        "Your task is to find:\n",
        "\n",
        "The mean along axis 1\n",
        "The var along axis 0\n",
        "The std along axis None"
      ]
    },
    {
      "cell_type": "code",
      "metadata": {
        "colab": {
          "base_uri": "https://localhost:8080/"
        },
        "id": "pwRELvhmhCTI",
        "outputId": "5c282fef-bfc6-4770-e47c-a5a1e31d6c01"
      },
      "source": [
        "import numpy\n",
        "numpy.set_printoptions(legacy='1.13')\n",
        "N,M = list(map(int,input().strip().split()))\n",
        "my_array = numpy.array([input().strip().split() for _ in range(N)],int)\n",
        "print(numpy.mean(my_array,axis=1))\n",
        "print(numpy.var(my_array,axis=0))\n",
        "print(numpy.std(my_array,axis = None))"
      ],
      "execution_count": 6,
      "outputs": [
        {
          "output_type": "stream",
          "text": [
            "2 2\n",
            "1 2\n",
            "3 4\n",
            "[ 1.5  3.5]\n",
            "[ 1.  1.]\n",
            "1.11803398875\n"
          ],
          "name": "stdout"
        }
      ]
    },
    {
      "cell_type": "markdown",
      "metadata": {
        "id": "wZ9_4643iFhY"
      },
      "source": [
        "**Transpose and Flatten**\n",
        "\n",
        "You are given a NXM integer array matrix with space separated elements ( N= rows and  M= columns).\n",
        "Your task is to print the transpose and flatten results."
      ]
    },
    {
      "cell_type": "code",
      "metadata": {
        "colab": {
          "base_uri": "https://localhost:8080/"
        },
        "id": "CzZ_tCBOh1Xj",
        "outputId": "bcb903b6-db5f-4c0f-bc30-56d06fab6dca"
      },
      "source": [
        "import numpy\n",
        "\n",
        "N, M = list(map(int, input().split()))\n",
        "\n",
        "\n",
        "my_array = numpy.array([input().split() for _ in range(N)],int)\n",
        "\n",
        "print(numpy.transpose(my_array))\n",
        "print(my_array.flatten())\n"
      ],
      "execution_count": 8,
      "outputs": [
        {
          "output_type": "stream",
          "text": [
            "2 2\n",
            "1 2\n",
            "3 4\n",
            "[[1 3]\n",
            " [2 4]]\n",
            "[1 2 3 4]\n"
          ],
          "name": "stdout"
        }
      ]
    },
    {
      "cell_type": "markdown",
      "metadata": {
        "id": "FyFuP7BKid1U"
      },
      "source": [
        "**Concatenate**\n",
        "\n",
        "You are given two integer arrays of size NXP and MXP (N & M are rows, and P is the column). Your task is to concatenate the arrays along axis 0"
      ]
    },
    {
      "cell_type": "code",
      "metadata": {
        "colab": {
          "base_uri": "https://localhost:8080/"
        },
        "id": "wQsJ9wYciSm9",
        "outputId": "1ee74c5c-46bf-4c2b-f6da-34c134d2a953"
      },
      "source": [
        "import numpy\n",
        "n,m,p = list(map(int,input().split()))\n",
        "array_1 = numpy.array([input().split() for _ in range(n)],int)\n",
        "array_2 = numpy.array([input().split() for _ in range(m)],int)\n",
        "\n",
        "print(numpy.concatenate([array_1,array_2],axis=0))\n"
      ],
      "execution_count": 9,
      "outputs": [
        {
          "output_type": "stream",
          "text": [
            "4 3 2\n",
            "1 2\n",
            "1 2\n",
            "1 2\n",
            "1 2\n",
            "3 4\n",
            "3 4\n",
            "3 4\n",
            "[[1 2]\n",
            " [1 2]\n",
            " [1 2]\n",
            " [1 2]\n",
            " [3 4]\n",
            " [3 4]\n",
            " [3 4]]\n"
          ],
          "name": "stdout"
        }
      ]
    },
    {
      "cell_type": "markdown",
      "metadata": {
        "id": "fuxTmKrti6vp"
      },
      "source": [
        "**Zeros and Ones**\n",
        "\n",
        "You are given the shape of the array in the form of space-separated integers, each integer representing the size of different dimensions, your task is to print an array of the given shape and integer type using the tools numpy.zeros and numpy.ones"
      ]
    },
    {
      "cell_type": "code",
      "metadata": {
        "colab": {
          "base_uri": "https://localhost:8080/"
        },
        "id": "QnPqvJwjiwlW",
        "outputId": "9b6e42f2-5e05-4807-c9e6-225a2b94626c"
      },
      "source": [
        "import numpy\n",
        "\n",
        "size = list(map(int,input().split()))\n",
        "print(numpy.zeros(size,dtype = int))\n",
        "print(numpy.ones(size,dtype = int))\n"
      ],
      "execution_count": 10,
      "outputs": [
        {
          "output_type": "stream",
          "text": [
            "3 3 3\n",
            "[[[0 0 0]\n",
            "  [0 0 0]\n",
            "  [0 0 0]]\n",
            "\n",
            " [[0 0 0]\n",
            "  [0 0 0]\n",
            "  [0 0 0]]\n",
            "\n",
            " [[0 0 0]\n",
            "  [0 0 0]\n",
            "  [0 0 0]]]\n",
            "[[[1 1 1]\n",
            "  [1 1 1]\n",
            "  [1 1 1]]\n",
            "\n",
            " [[1 1 1]\n",
            "  [1 1 1]\n",
            "  [1 1 1]]\n",
            "\n",
            " [[1 1 1]\n",
            "  [1 1 1]\n",
            "  [1 1 1]]]\n"
          ],
          "name": "stdout"
        }
      ]
    },
    {
      "cell_type": "markdown",
      "metadata": {
        "id": "gdqU-4uejPDi"
      },
      "source": [
        "**Eye and Identity**\n",
        "\n",
        "The eye tool returns a 2-D array with 1's as the diagonal and 0's elsewhere. The diagonal can be main, upper or lower depending on the optional parameter k . A positive k  is for the upper diagonal, a knegative  is for the lower, and a  0 k (default) is for the main diagonal."
      ]
    },
    {
      "cell_type": "code",
      "metadata": {
        "colab": {
          "base_uri": "https://localhost:8080/"
        },
        "id": "ZNl57GqhjH8o",
        "outputId": "ee642dee-4452-48e4-e2f6-f4a26380e0e1"
      },
      "source": [
        "import numpy\n",
        "numpy.set_printoptions(legacy='1.13')\n",
        "n,m = list(map(int,input().split()))\n",
        "print(numpy.eye(n,m))\n"
      ],
      "execution_count": 11,
      "outputs": [
        {
          "output_type": "stream",
          "text": [
            "3 3\n",
            "[[ 1.  0.  0.]\n",
            " [ 0.  1.  0.]\n",
            " [ 0.  0.  1.]]\n"
          ],
          "name": "stdout"
        }
      ]
    },
    {
      "cell_type": "markdown",
      "metadata": {
        "id": "-dV9eLdJjuWx"
      },
      "source": [
        "**ARRAY MATHEMATICS**\n",
        "\n",
        "You are given two integer arrays, A and B  of dimensions NXN.\n",
        "Your task is to perform the following operations:\n",
        "\n",
        "Add (A + B)\n",
        "Subtract (A -B )\n",
        "Multiply ( A*B )\n",
        "Integer Division (A /B )\n",
        "Mod ( A% B)\n",
        "Power ( A**B )"
      ]
    },
    {
      "cell_type": "code",
      "metadata": {
        "colab": {
          "base_uri": "https://localhost:8080/"
        },
        "id": "bctx9NRVjnff",
        "outputId": "07c54354-0c33-4960-facf-84614a7edd73"
      },
      "source": [
        "import numpy\n",
        "N,M = list(map(int,input().split()))\n",
        "A = numpy.array([input().split() for _ in range(N)],int)\n",
        "B = numpy.array([input().split() for _ in range(N)],int)\n",
        "print(numpy.add(A,B))\n",
        "print(numpy.subtract(A,B))\n",
        "print(numpy.multiply(A,B))\n",
        "print(A//B)\n",
        "print(numpy.mod(A,B))\n",
        "print(numpy.power(A,B))"
      ],
      "execution_count": 21,
      "outputs": [
        {
          "output_type": "stream",
          "text": [
            "1 4\n",
            "1 2 3 4\n",
            "5 6 7 8\n",
            "[[ 6  8 10 12]]\n",
            "[[-4 -4 -4 -4]]\n",
            "[[ 5 12 21 32]]\n",
            "[[0 0 0 0]]\n",
            "[[1 2 3 4]]\n",
            "[[    1    64  2187 65536]]\n"
          ],
          "name": "stdout"
        }
      ]
    },
    {
      "cell_type": "markdown",
      "metadata": {
        "id": "3N4Dx6iRjyXm"
      },
      "source": [
        "**Floor, Ceil, Rint**\n",
        "\n",
        "You are given a 1-D array,A . Your task is to print the FLOOR,CEIL  and RINT of all the elements of A "
      ]
    },
    {
      "cell_type": "code",
      "metadata": {
        "colab": {
          "base_uri": "https://localhost:8080/"
        },
        "id": "QewvkuJ5j2zb",
        "outputId": "a7100d84-cbd6-4f56-a453-af867cbdd70a"
      },
      "source": [
        "import numpy\n",
        "numpy.set_printoptions(legacy='1.13')\n",
        "my_array = numpy.array(input().split(),float)\n",
        "\n",
        "print(numpy.floor(my_array))\n",
        "print(numpy.ceil(my_array))\n",
        "print(numpy.rint(my_array))"
      ],
      "execution_count": 20,
      "outputs": [
        {
          "output_type": "stream",
          "text": [
            "1.1 2.2 3.3 4.4 5.5 6.6 7.7 8.8 9.9\n",
            "[ 1.  2.  3.  4.  5.  6.  7.  8.  9.]\n",
            "[  2.   3.   4.   5.   6.   7.   8.   9.  10.]\n",
            "[  1.   2.   3.   4.   6.   7.   8.   9.  10.]\n"
          ],
          "name": "stdout"
        }
      ]
    },
    {
      "cell_type": "markdown",
      "metadata": {
        "id": "pRtp3OY7j3e2"
      },
      "source": [
        "**Sum and Product**\n",
        "\n",
        "You are given a 2-D array with dimensions NXM.\n",
        "Your task is to perform the SUM tool over axis 0   and then find the PRODUCTof that result"
      ]
    },
    {
      "cell_type": "code",
      "metadata": {
        "colab": {
          "base_uri": "https://localhost:8080/"
        },
        "id": "moZjf7Axj6-1",
        "outputId": "6b998079-8df2-4e08-814e-47881a675c8b"
      },
      "source": [
        "import numpy\n",
        "\n",
        "n,m = list(map(int,input().split()))\n",
        "my_array = numpy.array([input().split() for _ in range(n)],int)\n",
        "arr1 =  numpy.sum(my_array,axis =0)\n",
        "\n",
        "print(numpy.prod(arr1))"
      ],
      "execution_count": 19,
      "outputs": [
        {
          "output_type": "stream",
          "text": [
            "2 2\n",
            "1 2\n",
            "3 4\n",
            "24\n"
          ],
          "name": "stdout"
        }
      ]
    },
    {
      "cell_type": "markdown",
      "metadata": {
        "id": "2Ym02t9Vj7zC"
      },
      "source": [
        "**Min and Max**\n",
        "\n",
        "You are given a 2-D array with dimensions N X M.\n",
        "Your task is to perform the min function over axis 11   and then find the max of that."
      ]
    },
    {
      "cell_type": "code",
      "metadata": {
        "colab": {
          "base_uri": "https://localhost:8080/"
        },
        "id": "wVRF503zj-U0",
        "outputId": "a97540da-e625-4f6e-c0e7-fa4643e8ed19"
      },
      "source": [
        "import numpy\n",
        "\n",
        "N,M = list(map(int,input().split()))\n",
        "my_array = numpy.array([input().split() for _ in range(N)],int)\n",
        "arr1 = numpy.min(my_array,axis=1)\n",
        "\n",
        "print(numpy.max(arr1))"
      ],
      "execution_count": 18,
      "outputs": [
        {
          "output_type": "stream",
          "text": [
            "4 2\n",
            "2 5\n",
            "3 7\n",
            "1 3\n",
            "4 0\n",
            "3\n"
          ],
          "name": "stdout"
        }
      ]
    },
    {
      "cell_type": "markdown",
      "metadata": {
        "id": "gM0anb_jkBBQ"
      },
      "source": [
        "**DOT AND CROSS**\n",
        "\n",
        "\n",
        "You are given two arrays A and B. Both have dimensions of NXN.\n",
        "Your task is to compute their matrix product."
      ]
    },
    {
      "cell_type": "code",
      "metadata": {
        "colab": {
          "base_uri": "https://localhost:8080/"
        },
        "id": "T92JYiAbkDQu",
        "outputId": "34b6c699-adc6-412f-90a0-439f495fe66d"
      },
      "source": [
        "import numpy\n",
        "numpy.set_printoptions(legacy='1.13')\n",
        "N=int(input())\n",
        "A = numpy.array([input().split() for _ in range(N)],int)\n",
        "B = numpy.array([input().split() for _ in range(N)],int)\n",
        "print(numpy.matmul(A,B))\n",
        "\n"
      ],
      "execution_count": 15,
      "outputs": [
        {
          "output_type": "stream",
          "text": [
            "2\n",
            "1 2\n",
            "3 4\n",
            "1 2\n",
            "3 4\n",
            "[[ 7 10]\n",
            " [15 22]]\n"
          ],
          "name": "stdout"
        }
      ]
    },
    {
      "cell_type": "markdown",
      "metadata": {
        "id": "mQwPFUdNkD6Q"
      },
      "source": [
        "**INNER AND OUTER**\n",
        "\n",
        "You are given two arrays: A and B .\n",
        "Your task is to compute their inner and outer product."
      ]
    },
    {
      "cell_type": "code",
      "metadata": {
        "colab": {
          "base_uri": "https://localhost:8080/"
        },
        "id": "rwxZ13GNkROx",
        "outputId": "9c8c900b-5632-4a08-fcf2-39bbfce2e56b"
      },
      "source": [
        "import numpy\n",
        "\n",
        "A = numpy.array(input().split(),int)\n",
        "B = numpy.array(input().split(),int)\n",
        "\n",
        "print(numpy.inner(A,B))\n",
        "print(numpy.outer(A,B)) "
      ],
      "execution_count": 14,
      "outputs": [
        {
          "output_type": "stream",
          "text": [
            "0 1\n",
            "2 3\n",
            "3\n",
            "[[0 0]\n",
            " [2 3]]\n"
          ],
          "name": "stdout"
        }
      ]
    },
    {
      "cell_type": "markdown",
      "metadata": {
        "id": "vnfWc4QDkTD-"
      },
      "source": [
        "**Polynomials**\n",
        "\n",
        "You are given the coefficients of a polynomial P.\n",
        "Your task is to find the value of P at point x ."
      ]
    },
    {
      "cell_type": "code",
      "metadata": {
        "colab": {
          "base_uri": "https://localhost:8080/"
        },
        "id": "4gjy_frYkXTL",
        "outputId": "c0b544f4-16a6-4c9f-c674-9519b17d0fb9"
      },
      "source": [
        "import numpy\n",
        "\n",
        "P = list(map(float,input().split()))\n",
        "x = int(input())\n",
        "print(numpy.polyval(P,x))"
      ],
      "execution_count": 13,
      "outputs": [
        {
          "output_type": "stream",
          "text": [
            "1.1 2 3\n",
            "0\n",
            "3.0\n"
          ],
          "name": "stdout"
        }
      ]
    },
    {
      "cell_type": "markdown",
      "metadata": {
        "id": "9wDcQwLVkX24"
      },
      "source": [
        "**Linear Algebra**\n",
        "\n",
        "The first line contains the integer N .\n",
        "The next N  lines contains the N space separated elements of array A ."
      ]
    },
    {
      "cell_type": "code",
      "metadata": {
        "colab": {
          "base_uri": "https://localhost:8080/"
        },
        "id": "oa2Qy1vIka3O",
        "outputId": "fd84ab72-831d-4e2c-9684-e0a5e4c9b7b3"
      },
      "source": [
        "import numpy\n",
        "\n",
        "N = int(input())\n",
        "A = numpy.array([input().split() for _ in range(N)],float)\n",
        "print(round(numpy.linalg.det(A)))"
      ],
      "execution_count": 12,
      "outputs": [
        {
          "output_type": "stream",
          "text": [
            "2\n",
            "1.1 1.1\n",
            "1.1 1.1\n",
            "0\n"
          ],
          "name": "stdout"
        }
      ]
    },
    {
      "cell_type": "code",
      "metadata": {
        "id": "Eb8MzutSkqFJ"
      },
      "source": [
        ""
      ],
      "execution_count": null,
      "outputs": []
    }
  ]
}
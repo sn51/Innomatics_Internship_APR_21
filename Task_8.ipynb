{
  "nbformat": 4,
  "nbformat_minor": 0,
  "metadata": {
    "colab": {
      "name": "Task_8.ipynb",
      "provenance": []
    },
    "kernelspec": {
      "name": "python3",
      "display_name": "Python 3"
    },
    "language_info": {
      "name": "python"
    }
  },
  "cells": [
    {
      "cell_type": "markdown",
      "metadata": {
        "id": "08tegDvVkH0r"
      },
      "source": [
        "**TASK  8 :- Statistics Questions**"
      ]
    },
    {
      "cell_type": "markdown",
      "metadata": {
        "id": "wsrAsCX4RIdv"
      },
      "source": [
        "**Binomial Distribution** :- The binomial distribution with parameters n and p is the discrete probability distribution of the number of successes in a sequence of n independent experiments.\n",
        "$ b(x,n,p) = (\\frac{x!}{x!(n-x)!})*p^{x}*(1-p)^{n-x} $"
      ]
    },
    {
      "cell_type": "code",
      "metadata": {
        "colab": {
          "base_uri": "https://localhost:8080/"
        },
        "id": "Y78bI2vzQq0d",
        "outputId": "a8b0e6f7-5d0d-4794-aa9d-e4c5c67428e6"
      },
      "source": [
        "#The ratio of boys to girls for babies born in Russia is 1.09:1 If there is  1 child born per birth, what proportion of Russian families with exactly 6 children will have at least 3 boys?\n",
        "\n",
        "#Write a program to compute the answer using the above parameters. Then print your result, rounded to a scale of 3 decimal places\n",
        "\n",
        "import math\n",
        "# as the ratio of boys:girls = 1.09:1 therefore probability of having boy is 1.09/(1.09+1)\n",
        "prob_sucess = 1.09/(1.09+1)\n",
        "p = prob_sucess\n",
        "answer = 0\n",
        "for i in range(3):\n",
        "  answer += math.factorial(6)/math.factorial(i)/math.factorial(6-i) *p**i*(1-p)**(6-i)\n",
        "\n",
        "print(round(1-answer,3))"
      ],
      "execution_count": null,
      "outputs": [
        {
          "output_type": "stream",
          "text": [
            "0.696\n"
          ],
          "name": "stdout"
        }
      ]
    },
    {
      "cell_type": "code",
      "metadata": {
        "colab": {
          "base_uri": "https://localhost:8080/"
        },
        "id": "HWWevOnwRD87",
        "outputId": "b9627b1a-0876-4f51-d3af-f9622de687a9"
      },
      "source": [
        "#A manufacturer of metal pistons finds that, on average, 12% of the pistons they manufacture are rejected because they are incorrectly sized. \n",
        "#What is the probability that a batch of 10 pistons will contain:\n",
        "\n",
        "#No more than 2 rejects?\n",
        "#At least 2 rejects?\n",
        "\n",
        "import math\n",
        "\n",
        "# as the 12% pistons are rejected then prob of rejection is 0.12\n",
        "p_rejection = 0.12\n",
        "p= p_rejection\n",
        "answer1 = 0\n",
        "for i in range(0,3):\n",
        "    answer1 += math.factorial(10)/math.factorial(i)/math.factorial(10-i) *p**i *(1-p)**(10-i)\n",
        "    if i == 1:\n",
        "        answer2 = 1-answer1 # because it is asking prob of atleast 2 rejects\n",
        "    \n",
        "print(round(answer1,3)) #No more than 2 rejects answer\n",
        "print(round(answer2,3)) # at least 2 rejects"
      ],
      "execution_count": null,
      "outputs": [
        {
          "output_type": "stream",
          "text": [
            "0.891\n",
            "0.342\n"
          ],
          "name": "stdout"
        }
      ]
    },
    {
      "cell_type": "markdown",
      "metadata": {
        "id": "nz4dw9EGErg_"
      },
      "source": [
        "***NORMAL DISTRIBUTION***\n",
        "\n",
        "**Cumulative distribution function** :- Consider a real valued random variable X. The CDF of X evaluated at x the probability will take a value less than or equal to x\n",
        "$ F_x(x) = P(X \\leq x) $\n",
        "\n",
        "$ P( a \\leq X \\leq b) = P( z < x < b) = F_x(b) - F_x(a) $\n",
        "The CDF for function with a normal distribution is:-\n",
        "$\\phi(x) = 1/2 (1+erf(\\frac{x-\\mu}{\\sigma*2^{1/2}})) $\n",
        "\n",
        " where $  erf(z) = \\frac{2}{\\pi^{1/2}} \\int_{0}^2 e^{-x^2} dx$\n",
        "\n",
        "---\n",
        "\n"
      ]
    },
    {
      "cell_type": "markdown",
      "metadata": {
        "id": "0s8M-mY6jBcn"
      },
      "source": [
        "In a certain plant, the time taken to assemble a car is a random variable, X, having a normal distribution with a mean of 20  hours and a standard deviation of 12  hours. What is the probability that a car can be assembled at this plant in:\n",
        "\n",
        "Less than 19.5 hours?\n",
        "Between 20 and 22  hours?"
      ]
    },
    {
      "cell_type": "code",
      "metadata": {
        "id": "qZl3cFKHYPls",
        "colab": {
          "base_uri": "https://localhost:8080/"
        },
        "outputId": "2ea17c15-2a57-4b72-bd00-01ebfde2eafd"
      },
      "source": [
        "import math\n",
        "mean = 20\n",
        "std = 12\n",
        "def cdf(x,mean,std):\n",
        "  return 1/2*(1+math.erf((x-mean)/std/2**(1/2)))\n",
        "answer1 =cdf(19.5,mean,std) # answer of less than 19.5 hours\n",
        "answer2 =cdf(22,mean,std)-cdf(20,mean,std) # answer of between 20 and 22 hours\n",
        "print(round(answer1,3))\n",
        "print(round(answer2,3))\n"
      ],
      "execution_count": 1,
      "outputs": [
        {
          "output_type": "stream",
          "text": [
            "0.483\n",
            "0.066\n"
          ],
          "name": "stdout"
        }
      ]
    },
    {
      "cell_type": "markdown",
      "metadata": {
        "id": "GTQDQYlAjfpM"
      },
      "source": [
        "The final grades for a Physics exam taken by a large group of students have a mean of 70 and a standard deviation of 10 . If we can approximate the distribution of these grades by a normal distribution, what percentage of the students:\n",
        "\n",
        "Scored higher than 80  ?\n",
        "Passed the test (i.e., have a grade>60 )?\n",
        "Failed the test (i.e., have a grade < 60 )?\n",
        "Find and print the answer to each question on a new line, rounded to a scale of  decimal places."
      ]
    },
    {
      "cell_type": "code",
      "metadata": {
        "colab": {
          "base_uri": "https://localhost:8080/"
        },
        "id": "Xk6nAWA6SifD",
        "outputId": "44e65438-0d91-4613-da64-e625deb780a4"
      },
      "source": [
        "import math\n",
        "mean = 70\n",
        "std = 10\n",
        "def cdf(x,mean,std):\n",
        "  return 1/2*(1+math.erf((x-mean)/std/2**(1/2)))\n",
        "answer1 =cdf(80,mean,std)\n",
        "answer2 =cdf(60,mean,std)\n",
        "print(round((1-answer1)*100,2)) # Scored higher than 80\n",
        "print(round((1-answer2)*100,2)) #Passed the test (i.e., have a grade > 60 )\n",
        "print(round(answer2,2)) #Failed the test (i.e., have a grade < 60 )"
      ],
      "execution_count": 2,
      "outputs": [
        {
          "output_type": "stream",
          "text": [
            "15.87\n",
            "84.13\n",
            "0.16\n"
          ],
          "name": "stdout"
        }
      ]
    },
    {
      "cell_type": "markdown",
      "metadata": {
        "id": "FGULw1MCTGLY"
      },
      "source": [
        "**Center limit theorem**:- it states that for a large enough $ \\eta $ the distribution of the sample mean will approach normal distribution. This holds for a sample of independent random variables from any distribution with a finite standard deviation.\n",
        "For large n, the distribution of sample sum Sn , is close to normal distribution $ \\eta (\\mu', \\sigma') where \\mu' = n*\\mu  , \\sigma'=n^{1/2}*\\sigma $"
      ]
    },
    {
      "cell_type": "markdown",
      "metadata": {
        "id": "zX2k2oG3gp7A"
      },
      "source": [
        "A large elevator can transport a maximum of 9800 pounds. Suppose a load of cargo containing 49  boxes must be transported via the elevator. The box weight of this type of cargo follows a distribution with a mean of $\\mu=205 $ pounds and a standard deviation of $\\sigma = 15 $ pounds. Based on this information, what is the probability that all 49  boxes can be safely loaded into the freight elevator and transported?"
      ]
    },
    {
      "cell_type": "code",
      "metadata": {
        "colab": {
          "base_uri": "https://localhost:8080/"
        },
        "id": "edoERuenTBSI",
        "outputId": "12699bbb-26c5-4cac-f4f1-fd8e3fd1b4c1"
      },
      "source": [
        "import math\n",
        "def cdf(x,mean,std):\n",
        "  return 1/2*(1+math.erf((x-mean)/std/2**(1/2)))\n",
        "mean = 205\n",
        "std = 15\n",
        "n = 49\n",
        "value = 9800\n",
        "\n",
        "new_mean = n*mean\n",
        "new_std = std*n**(1/2)\n",
        "\n",
        "\n",
        "\n",
        "answer = cdf(value,new_mean,new_std)\n",
        "print(round(answer,4))\n",
        "\n"
      ],
      "execution_count": 13,
      "outputs": [
        {
          "output_type": "stream",
          "text": [
            "0.0098\n"
          ],
          "name": "stdout"
        }
      ]
    },
    {
      "cell_type": "markdown",
      "metadata": {
        "id": "T8Q1MYIqhCMz"
      },
      "source": [
        "The number of tickets purchased by each student for the University X vs. University Y football game follows a distribution that has a mean of $\\mu = 2.4 $ and a standard deviation of $\\sigma = 2 $ .\n",
        "\n",
        "A few hours before the game starts, 100  eager students line up to purchase last-minute tickets. If there are only 250  tickets left, what is the probability that all 100  students will be able to purchase tickets?"
      ]
    },
    {
      "cell_type": "code",
      "metadata": {
        "colab": {
          "base_uri": "https://localhost:8080/"
        },
        "id": "eW4DnK12VAiH",
        "outputId": "59277a0c-c94f-4b84-92de-148984f39b40"
      },
      "source": [
        "import math\n",
        "def cdf(x,mean,std):\n",
        "  return 1/2*(1+math.erf((x-mean)/std/2**(1/2)))\n",
        "mean = 2.4\n",
        "std = 2\n",
        "n = 100\n",
        "value = 250\n",
        "\n",
        "new_mean = n*mean\n",
        "new_std = std*n**(1/2)\n",
        "\n",
        "\n",
        "\n",
        "answer = cdf(value,new_mean,new_std)\n",
        "print(round(answer,4))\n",
        "\n",
        "\n",
        "\n"
      ],
      "execution_count": 12,
      "outputs": [
        {
          "output_type": "stream",
          "text": [
            "0.6915\n"
          ],
          "name": "stdout"
        }
      ]
    },
    {
      "cell_type": "markdown",
      "metadata": {
        "id": "CCh4kPglhy9W"
      },
      "source": [
        "You have a sample of 100 values from a population with mean $\\mu = 500 $ and with standard deviation $\\sigma = 80 $ . Compute the interval that covers the middle 95%  of the distribution of the sample mean; in other words, compute A and  B such that P(A<x<B) = 0.95 . Use the value of $z= 1 $.96 . Note that $z$  is the z-score."
      ]
    },
    {
      "cell_type": "code",
      "metadata": {
        "colab": {
          "base_uri": "https://localhost:8080/"
        },
        "id": "rnMla18DWQWD",
        "outputId": "8544eff2-6d49-4178-fdb8-0a4dfee0a6ba"
      },
      "source": [
        "mean = 500\n",
        "std = 80\n",
        "n = 100\n",
        "z = 1.96\n",
        "\n",
        "new_mean = mean\n",
        "new_std = std/n**(1/2)\n",
        "\n",
        "\n",
        "\n",
        "A = mean-std*z\n",
        "B = mean+std*z\n",
        "print(round(A,2))\n",
        "print(round(B,2))"
      ],
      "execution_count": 29,
      "outputs": [
        {
          "output_type": "stream",
          "text": [
            "343.2\n",
            "656.8\n"
          ],
          "name": "stdout"
        }
      ]
    },
    {
      "cell_type": "markdown",
      "metadata": {
        "id": "QVaNCaNzX4sV"
      },
      "source": [
        "**Pearson correlation coefficient**:- The Pearson correlation $\\rho X,Y $ is given by $\\rho X,Y = \\frac{cov(X,Y)}{\\sigma_X \\sigma_Y} = \\sum_i \\frac{(x_i-\\mu_x)(y_i-\\mu_y)}{n \\sigma_x \\sigma_y}$"
      ]
    },
    {
      "cell_type": "code",
      "metadata": {
        "colab": {
          "base_uri": "https://localhost:8080/"
        },
        "id": "_kodJJ71Xvc4",
        "outputId": "61dfd930-f3af-406f-8e9e-434f11f301f3"
      },
      "source": [
        "import math\n",
        "n = int(input())\n",
        "x = list(map(float,input().split()))\n",
        "y=  list(map(float,input().split()))\n",
        "mean_x = sum(x)/n\n",
        "mean_y = sum(y)/n\n",
        "std_x = (sum([(i-mean_x)**2 for i in x])/n)**(1/2)\n",
        "std_y = (sum([(i-mean_y)**2 for i in y])/n)**(1/2)\n",
        "cov = sum([(x[i]-mean_x)*(y[i]-mean_y) for i in range(n)])\n",
        "corr = cov/n*std_x*std_y\n",
        "print(round(corr,3))"
      ],
      "execution_count": 16,
      "outputs": [
        {
          "output_type": "stream",
          "text": [
            "10\n",
            "10 9.8 8 7.8 7.7 7 6 5 4 2\n",
            "200 44 32 24 22 17 15 12 8 4\n",
            "10682.191\n"
          ],
          "name": "stdout"
        }
      ]
    },
    {
      "cell_type": "markdown",
      "metadata": {
        "id": "vxYXOfTrarME"
      },
      "source": [
        "**Linear Regression and Multiple Regression**"
      ]
    },
    {
      "cell_type": "markdown",
      "metadata": {
        "id": "5mN-XLUveBYD"
      },
      "source": [
        "A group of five students enrolls in Statistics immediately after taking a Math aptitude test. Each student's Math aptitude test score, x , and Statistics course grade, y, can be expressed as the following list of (x,y) points:\n",
        "95 85\n",
        "85 95\n",
        "80 70\n",
        "70 65\n",
        "60 70\n",
        "\n",
        "If a student scored an 80 on the Math aptitude test, what grade would we expect them to achieve in Statistics? Determine the equation of the best-fit line using the least squares method, then compute and print the value of y when x=80 ."
      ]
    },
    {
      "cell_type": "code",
      "metadata": {
        "colab": {
          "base_uri": "https://localhost:8080/"
        },
        "id": "dRj9cJQhZ2UU",
        "outputId": "cccb6f2a-cc6a-4114-9265-5e693a60f23d"
      },
      "source": [
        "n = 5\n",
        "xy = [list(map(int,input().split())) for _ in range(n)]\n",
        "\n",
        "for x,y in xy:\n",
        "    print(x,end=', ')\n",
        "    print(y)\n",
        "    \n",
        "sx,sy,sx2,sxy = map(sum,zip(*[(x,y,x**2,x*y) for x,y in xy]))\n",
        "b = (n* sxy-sx *sy)/(n*sx2-sx**2)\n",
        "a = (sy/n)-b*(sx/n)\n",
        "print('{:.3f}'.format(a+b*80))\n"
      ],
      "execution_count": 26,
      "outputs": [
        {
          "output_type": "stream",
          "text": [
            "95 85\n",
            "85 95\n",
            "80 70\n",
            "70 65\n",
            "60 70\n",
            "95, 85\n",
            "85, 95\n",
            "80, 70\n",
            "70, 65\n",
            "60, 70\n",
            "78.288\n"
          ],
          "name": "stdout"
        }
      ]
    },
    {
      "cell_type": "markdown",
      "metadata": {
        "id": "FSAfYq95eij7"
      },
      "source": [
        "Andrea has a simple equation:\n",
        "$ Y= a + b_1 * f_1 + ...... + b_m * f_m $\n",
        "\n",
        "for (m+1) real constants $(a,f_1 ,f_2 ,... ,f_m )$. We can say that the value of Y depends on m features. Andrea studies this equation for  different n feature sets  and records each respective value of Y . If she has q new feature sets, can you help Andrea find the value of Y for each of the sets?"
      ]
    },
    {
      "cell_type": "code",
      "metadata": {
        "colab": {
          "base_uri": "https://localhost:8080/"
        },
        "id": "x9_r1CKFcGoC",
        "outputId": "88ce00a2-6371-4150-9489-c6b939260dc9"
      },
      "source": [
        "from sklearn.linear_model import LinearRegression\n",
        "m,n = list(map(int,input().split()))\n",
        "x,y = [],[]\n",
        "for i in range(n):\n",
        "    vals= list(map(float,input().split()))\n",
        "    x.append(vals[:-1])\n",
        "    y.append(vals[-1])\n",
        "    \n",
        "q = int(input())\n",
        "answer = []\n",
        "for i in range(q):\n",
        "    vals = list(map(float,input().split()))\n",
        "    \n",
        "    answer.append(vals)\n",
        "    \n",
        "classifier = LinearRegression()\n",
        "classifier.fit(x,y)\n",
        "\n",
        "pred = classifier.predict(answer)\n",
        "for i in pred:\n",
        "    print(i)"
      ],
      "execution_count": 28,
      "outputs": [
        {
          "output_type": "stream",
          "text": [
            "2 7\n",
            "0.18 0.89 109.85\n",
            "1.0 0.26 155.72\n",
            "0.92 0.11 137.66\n",
            "0.07 0.37 76.17\n",
            "0.85 0.16 139.75\n",
            "0.99 0.41 162.6\n",
            "0.87 0.47 151.77\n",
            "4\n",
            "0.49 0.18\n",
            "0.57 0.83\n",
            "0.56 0.64\n",
            "0.76 0.18\n",
            "105.21455835106944\n",
            "142.67095130729922\n",
            "132.9360546912469\n",
            "129.70175404502453\n"
          ],
          "name": "stdout"
        }
      ]
    },
    {
      "cell_type": "code",
      "metadata": {
        "id": "LBmRc8cWf2g9"
      },
      "source": [
        ""
      ],
      "execution_count": null,
      "outputs": []
    }
  ]
}